{
  "nbformat": 4,
  "nbformat_minor": 0,
  "metadata": {
    "colab": {
      "provenance": []
    },
    "kernelspec": {
      "name": "python3",
      "display_name": "Python 3"
    },
    "language_info": {
      "name": "python"
    }
  },
  "cells": [
    {
      "cell_type": "code",
      "execution_count": 6,
      "metadata": {
        "colab": {
          "base_uri": "https://localhost:8080/"
        },
        "id": "AmyKFPMEza6J",
        "outputId": "315be049-a573-43a5-ad6f-5eb63df56e8e"
      },
      "outputs": [
        {
          "output_type": "stream",
          "name": "stdout",
          "text": [
            "Accuracy:  80.75054591190339 %\n",
            "predicted price =  22827.28511633008\n"
          ]
        },
        {
          "output_type": "stream",
          "name": "stderr",
          "text": [
            "/usr/local/lib/python3.10/dist-packages/sklearn/base.py:439: UserWarning: X does not have valid feature names, but LinearRegression was fitted with feature names\n",
            "  warnings.warn(\n"
          ]
        }
      ],
      "source": [
        "import pandas as pd\n",
        "df=pd.read_csv('https://raw.githubusercontent.com/piyush1703/Supervised-ML-for-Business-analytics/main/Supervised%20ML%20Project/Tasks/Week%203%20Task/CarPrice_Assignment%20(1).csv')\n",
        "x=df[['carlength','carwidth','carheight','enginesize','stroke','horsepower']]\n",
        "y=df['price']\n",
        "from sklearn.model_selection import train_test_split\n",
        "x_train,x_test,y_train,y_test=train_test_split(x,y,test_size=0.2,random_state=0)\n",
        "from sklearn.linear_model import LinearRegression\n",
        "lin=LinearRegression()\n",
        "lin.fit(x_train,y_train)\n",
        "c=lin.intercept_\n",
        "m=lin.coef_\n",
        "from sklearn.metrics import r2_score\n",
        "y_pred=lin.predict(x_test)\n",
        "r2_test=r2_score(y_test,y_pred)\n",
        "print(\"Accuracy: \",r2_test*100,\"%\")\n",
        "predicted_price=lin.predict([[190.9,70.3,54.9,183,3.64,123]])\n",
        "print(\"predicted price = \",predicted_price[0])"
      ]
    }
  ]
}