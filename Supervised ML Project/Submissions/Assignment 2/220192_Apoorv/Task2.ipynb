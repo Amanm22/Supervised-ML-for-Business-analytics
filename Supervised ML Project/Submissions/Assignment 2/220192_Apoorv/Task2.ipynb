{
  "nbformat": 4,
  "nbformat_minor": 0,
  "metadata": {
    "colab": {
      "provenance": []
    },
    "kernelspec": {
      "name": "python3",
      "display_name": "Python 3"
    },
    "language_info": {
      "name": "python"
    }
  },
  "cells": [
    {
      "cell_type": "code",
      "execution_count": 8,
      "metadata": {
        "colab": {
          "base_uri": "https://localhost:8080/"
        },
        "id": "TpDtDCrMxGhC",
        "outputId": "e64abf9b-ec74-467d-9a30-c859806cc4fd"
      },
      "outputs": [
        {
          "output_type": "stream",
          "name": "stdout",
          "text": [
            "    name  score  attempts qualify\n",
            "9  Jonas   19.0         1     yes\n"
          ]
        }
      ],
      "source": [
        "import pandas\n",
        "import numpy as np\n",
        "exam_data = {'name': ['Anastasia', 'Dima', 'Katherine', 'James', 'Emily', 'Michael', 'Matthew', 'Laura', 'Kevin', 'Jonas'],\n",
        "'score': [12.5, 9, 16.5, np.nan, 9, 20, 14.5, np.nan, 8, 19],\n",
        "'attempts': [1, 3, 2, 3, 2, 3, 1, 1, 2, 1],\n",
        "'qualify': ['yes', 'no', 'yes', 'no', 'no', 'yes', 'yes', 'no', 'no', 'yes']}\n",
        "df=pandas.DataFrame(exam_data)\n",
        "print(df[(df.attempts<2) & (df.score>15)])\n"
      ]
    },
    {
      "cell_type": "code",
      "source": [
        "import pandas as pd\n",
        "student_data = pd.DataFrame({\n",
        "'school_code': ['s001','s002','s003','s001','s002','s004'],\n",
        "'class': ['V', 'V', 'VI', 'VI', 'V', 'VI'],\n",
        "'name': ['Alberto Franco','Gino Mcneill','Ryan Parkes', 'Eesha Hinton', 'Gino Mcneill', 'David Parkes'],\n",
        "'date_Of_Birth ': ['15/05/2002','17/05/2002','16/02/1999','25/09/1998','11/05/2002','15/09/1997'],\n",
        "'age': [12, 12, 13, 13, 14, 12],\n",
        "'height': [173, 192, 186, 167, 151, 159],\n",
        "'weight': [35, 32, 33, 30, 31, 32],\n",
        "'address': ['street1', 'street2', 'street3', 'street1', 'street2', 'street4']},\n",
        "index=['S1', 'S2', 'S3', 'S4', 'S5', 'S6'])\n",
        "df=pd.DataFrame(student_data)\n",
        "by_code=df.groupby(['school_code'])\n",
        "print(by_code.get_group('s001'))\n",
        "print(\"MEAN:\")\n",
        "print(by_code.mean())\n",
        "print(\"STANDARD DEviATION:\")\n",
        "print(by_code.std())\n"
      ],
      "metadata": {
        "colab": {
          "base_uri": "https://localhost:8080/"
        },
        "id": "Y4SWAml25Dvo",
        "outputId": "daec1bf7-f2de-40c8-cb7d-fd1a5699a4ea"
      },
      "execution_count": 1,
      "outputs": [
        {
          "output_type": "stream",
          "name": "stdout",
          "text": [
            "   school_code class            name date_Of_Birth   age  height  weight  \\\n",
            "S1        s001     V  Alberto Franco     15/05/2002   12     173      35   \n",
            "S4        s001    VI    Eesha Hinton     25/09/1998   13     167      30   \n",
            "\n",
            "    address  \n",
            "S1  street1  \n",
            "S4  street1  \n",
            "MEAN:\n",
            "              age  height  weight\n",
            "school_code                      \n",
            "s001         12.5   170.0    32.5\n",
            "s002         13.0   171.5    31.5\n",
            "s003         13.0   186.0    33.0\n",
            "s004         12.0   159.0    32.0\n",
            "STANDARD DEviATION:\n",
            "                  age     height    weight\n",
            "school_code                               \n",
            "s001         0.707107   4.242641  3.535534\n",
            "s002         1.414214  28.991378  0.707107\n",
            "s003              NaN        NaN       NaN\n",
            "s004              NaN        NaN       NaN\n"
          ]
        },
        {
          "output_type": "stream",
          "name": "stderr",
          "text": [
            "<ipython-input-1-9977002c38a7>:16: FutureWarning: The default value of numeric_only in DataFrameGroupBy.mean is deprecated. In a future version, numeric_only will default to False. Either specify numeric_only or select only columns which should be valid for the function.\n",
            "  print(by_code.mean())\n",
            "<ipython-input-1-9977002c38a7>:18: FutureWarning: The default value of numeric_only in DataFrameGroupBy.std is deprecated. In a future version, numeric_only will default to False. Either specify numeric_only or select only columns which should be valid for the function.\n",
            "  print(by_code.std())\n"
          ]
        }
      ]
    },
    {
      "cell_type": "code",
      "source": [
        "import pandas as pd\n",
        "import numpy as np\n",
        "df = pd.DataFrame({\n",
        "'ord_no':[70001,np.nan,70002,70004,np.nan,70005,\"#\",70010,70003,70012,np.nan,70013],\n",
        "'purch_amt':[150.5,270.65,65.26,110.5,948.5,2400.6,5760,\"?\",12.43,2480.4,250.45, 3045.6],\n",
        "'ord_date': ['?','2012-09-10',np.nan,'2012-08-17','2012-09-10','2012-07-27','2012-09-10','2012-10-10','2012-10-10','2012-06-27','2012-08-17','2012-04-25'],\n",
        "'customer_id':[3002,3001,3001,3003,3002,3001,3001,3004,\"#\",3002,3001,3001],\n",
        "'salesman_id':[5002,5003,\"?\",5001,np.nan,5002,5001,\"?\",5003,5002,5003,\"#\"]})\n",
        "df=df.replace(['#','?'],np.NaN)\n",
        "df.fillna(method='ffill',limit=1,inplace=True)\n",
        "df.fillna(method='bfill',limit=1,inplace=True)\n",
        "print(df)"
      ],
      "metadata": {
        "colab": {
          "base_uri": "https://localhost:8080/"
        },
        "id": "i1FGX4hx-d-2",
        "outputId": "222a61f1-a144-430d-dc57-f7bfbc58137f"
      },
      "execution_count": 4,
      "outputs": [
        {
          "output_type": "stream",
          "name": "stdout",
          "text": [
            "     ord_no  purch_amt    ord_date  customer_id  salesman_id\n",
            "0   70001.0     150.50  2012-09-10       3002.0       5002.0\n",
            "1   70001.0     270.65  2012-09-10       3001.0       5003.0\n",
            "2   70002.0      65.26  2012-09-10       3001.0       5003.0\n",
            "3   70004.0     110.50  2012-08-17       3003.0       5001.0\n",
            "4   70004.0     948.50  2012-09-10       3002.0       5001.0\n",
            "5   70005.0    2400.60  2012-07-27       3001.0       5002.0\n",
            "6   70005.0    5760.00  2012-09-10       3001.0       5001.0\n",
            "7   70010.0    5760.00  2012-10-10       3004.0       5001.0\n",
            "8   70003.0      12.43  2012-10-10       3004.0       5003.0\n",
            "9   70012.0    2480.40  2012-06-27       3002.0       5002.0\n",
            "10  70012.0     250.45  2012-08-17       3001.0       5003.0\n",
            "11  70013.0    3045.60  2012-04-25       3001.0       5003.0\n"
          ]
        }
      ]
    }
  ]
}