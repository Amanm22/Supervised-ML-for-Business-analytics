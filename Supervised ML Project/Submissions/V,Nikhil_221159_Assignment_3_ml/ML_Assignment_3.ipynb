{
 "cells": [
  {
   "cell_type": "code",
   "execution_count": 65,
   "id": "3dd9027d",
   "metadata": {},
   "outputs": [],
   "source": [
    "#Part A"
   ]
  },
  {
   "cell_type": "code",
   "execution_count": 28,
   "id": "a0bdb79d",
   "metadata": {},
   "outputs": [],
   "source": [
    "import numpy as np\n",
    "import pandas as pd\n",
    "from sklearn.linear_model import LinearRegression\n",
    "from sklearn.model_selection import  train_test_split"
   ]
  },
  {
   "cell_type": "code",
   "execution_count": 23,
   "id": "ef8df16a",
   "metadata": {},
   "outputs": [],
   "source": [
    "df=pd.read_csv(\"C:/Users/91939/Desktop/CarPrice_Assignment (1).csv\")"
   ]
  },
  {
   "cell_type": "code",
   "execution_count": 39,
   "id": "ee1e0c25",
   "metadata": {},
   "outputs": [],
   "source": [
    "lin=LinearRegression()"
   ]
  },
  {
   "cell_type": "code",
   "execution_count": 45,
   "id": "e6d0c9c9",
   "metadata": {},
   "outputs": [],
   "source": [
    "x=df[['carlength','carwidth','carheight','enginesize','stroke','horsepower']]\n",
    "y=df[['price']]"
   ]
  },
  {
   "cell_type": "code",
   "execution_count": 49,
   "id": "c418f83c",
   "metadata": {},
   "outputs": [],
   "source": [
    "x_train,x_test,y_train,y_test= train_test_split(x,y,test_size=0.2,random_state=10)"
   ]
  },
  {
   "cell_type": "code",
   "execution_count": 50,
   "id": "6c18050f",
   "metadata": {},
   "outputs": [
    {
     "data": {
      "text/plain": [
       "LinearRegression()"
      ]
     },
     "execution_count": 50,
     "metadata": {},
     "output_type": "execute_result"
    }
   ],
   "source": [
    "lin.fit(x_train,y_train)"
   ]
  },
  {
   "cell_type": "code",
   "execution_count": 51,
   "id": "871c4fd8",
   "metadata": {},
   "outputs": [
    {
     "data": {
      "text/plain": [
       "array([[10723.02757983],\n",
       "       [18590.22600543],\n",
       "       [10417.51675846],\n",
       "       [ 5349.17525732],\n",
       "       [49868.2749698 ],\n",
       "       [11831.00478446],\n",
       "       [ 6174.16568071],\n",
       "       [15067.42613307],\n",
       "       [ 6866.01199922],\n",
       "       [16993.31897514],\n",
       "       [14456.04918565],\n",
       "       [11989.08033209],\n",
       "       [ 7028.64202549],\n",
       "       [16676.57747593],\n",
       "       [39300.00438426],\n",
       "       [23600.28666881],\n",
       "       [11259.2032961 ],\n",
       "       [16937.41408576],\n",
       "       [13338.97328364],\n",
       "       [18972.3676113 ],\n",
       "       [ 6605.10507853],\n",
       "       [11342.06649647],\n",
       "       [15067.42613307],\n",
       "       [22560.02643916],\n",
       "       [17726.99927044],\n",
       "       [21887.01910718],\n",
       "       [11465.67500077],\n",
       "       [ 5961.14128473],\n",
       "       [ 8874.26934137],\n",
       "       [23704.92976636],\n",
       "       [ 6329.51059363],\n",
       "       [ 7292.08728468],\n",
       "       [ 6904.6094417 ],\n",
       "       [ 8951.14076133],\n",
       "       [23349.66360737],\n",
       "       [23989.79381687],\n",
       "       [10466.83143699],\n",
       "       [23387.26227283],\n",
       "       [11501.06550185],\n",
       "       [ 6046.90460543],\n",
       "       [11989.08033209]])"
      ]
     },
     "execution_count": 51,
     "metadata": {},
     "output_type": "execute_result"
    }
   ],
   "source": [
    "lin.predict(x_test)"
   ]
  },
  {
   "cell_type": "code",
   "execution_count": 57,
   "id": "c7537743",
   "metadata": {},
   "outputs": [
    {
     "data": {
      "text/plain": [
       "55.329404960500625"
      ]
     },
     "execution_count": 57,
     "metadata": {},
     "output_type": "execute_result"
    }
   ],
   "source": [
    "lin.score(x_test,y_test)*100"
   ]
  },
  {
   "cell_type": "code",
   "execution_count": 64,
   "id": "ec3402bf",
   "metadata": {},
   "outputs": [],
   "source": [
    "# Part B"
   ]
  },
  {
   "cell_type": "code",
   "execution_count": 61,
   "id": "6e2c38b4",
   "metadata": {},
   "outputs": [
    {
     "data": {
      "text/plain": [
       "LinearRegression()"
      ]
     },
     "execution_count": 61,
     "metadata": {},
     "output_type": "execute_result"
    }
   ],
   "source": [
    "lin.fit(x,y)"
   ]
  },
  {
   "cell_type": "code",
   "execution_count": 62,
   "id": "6fc38039",
   "metadata": {},
   "outputs": [
    {
     "name": "stderr",
     "output_type": "stream",
     "text": [
      "C:\\Users\\91939\\anaconda3\\lib\\site-packages\\sklearn\\base.py:450: UserWarning: X does not have valid feature names, but LinearRegression was fitted with feature names\n",
      "  warnings.warn(\n"
     ]
    },
    {
     "data": {
      "text/plain": [
       "array([[22729.96947124]])"
      ]
     },
     "execution_count": 62,
     "metadata": {},
     "output_type": "execute_result"
    }
   ],
   "source": [
    "lin.predict([[190.9,70.3, 54.9, 183,3.64, 123]])"
   ]
  }
 ],
 "metadata": {
  "celltoolbar": "Tags",
  "kernelspec": {
   "display_name": "Python 3 (ipykernel)",
   "language": "python",
   "name": "python3"
  },
  "language_info": {
   "codemirror_mode": {
    "name": "ipython",
    "version": 3
   },
   "file_extension": ".py",
   "mimetype": "text/x-python",
   "name": "python",
   "nbconvert_exporter": "python",
   "pygments_lexer": "ipython3",
   "version": "3.9.12"
  }
 },
 "nbformat": 4,
 "nbformat_minor": 5
}
